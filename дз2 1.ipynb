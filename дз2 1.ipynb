{
 "cells": [
  {
   "cell_type": "code",
   "execution_count": 47,
   "metadata": {},
   "outputs": [],
   "source": [
    "f = open('poem.txt', 'r')\n"
   ]
  },
  {
   "cell_type": "code",
   "execution_count": 48,
   "metadata": {},
   "outputs": [
    {
     "name": "stdout",
     "output_type": "stream",
     "text": [
      "Открыв наук зеленый том\n",
      "я долго плакал, а потом\n",
      "его закрыл и бросил в реку.\n",
      "Науки вредны человеку.\n",
      "науки втянут нас в беду\n",
      "возьмемтесь лучше за еду.\n",
      "\n",
      "<1933>\n",
      "\n",
      "Даниил Хармс\n"
     ]
    }
   ],
   "source": [
    "poem = f.read()\n",
    "print(poem)\n"
   ]
  },
  {
   "cell_type": "code",
   "execution_count": 49,
   "metadata": {},
   "outputs": [],
   "source": [
    "f.close()"
   ]
  },
  {
   "cell_type": "code",
   "execution_count": 50,
   "metadata": {},
   "outputs": [
    {
     "name": "stdout",
     "output_type": "stream",
     "text": [
      "C:\\Users\\user\n",
      ".anaconda\n",
      ".bash_history\n",
      ".conda\n",
      ".condarc\n",
      ".gitconfig\n",
      ".ipynb_checkpoints\n",
      ".ipython\n",
      ".jupyter\n",
      "3D Objects\n",
      "Anaconda3\n",
      "AppData\n",
      "Application Data\n",
      "cd\n",
      "Contacts\n",
      "Cookies\n",
      "Desktop\n",
      "Documents\n",
      "Downloads\n",
      "Favorites\n",
      "gephi-0.9.2-windows (1).exe\n",
      "Google Диск\n",
      "Intel\n",
      "IntelGraphicsProfiles\n",
      "JavaSetup8u161 (1).exe\n",
      "JavaSetup8u161.exe\n",
      "Links\n",
      "Local Settings\n",
      "MicrosoftEdgeBackups\n",
      "Miniconda3\n",
      "Music\n",
      "NetHood\n",
      "NTUSER.DAT\n",
      "ntuser.dat.LOG1\n",
      "ntuser.dat.LOG2\n",
      "NTUSER.DAT{302691c6-861b-11e8-8382-d96585cd56e8}.TxR.0.regtrans-ms\n",
      "NTUSER.DAT{302691c6-861b-11e8-8382-d96585cd56e8}.TxR.1.regtrans-ms\n",
      "NTUSER.DAT{302691c6-861b-11e8-8382-d96585cd56e8}.TxR.2.regtrans-ms\n",
      "NTUSER.DAT{302691c6-861b-11e8-8382-d96585cd56e8}.TxR.blf\n",
      "NTUSER.DAT{302691c7-861b-11e8-8382-d96585cd56e8}.TM.blf\n",
      "NTUSER.DAT{302691c7-861b-11e8-8382-d96585cd56e8}.TMContainer00000000000000000001.regtrans-ms\n",
      "NTUSER.DAT{302691c7-861b-11e8-8382-d96585cd56e8}.TMContainer00000000000000000002.regtrans-ms\n",
      "ntuser.ini\n",
      "OneDrive\n",
      "Pictures\n",
      "poem.txt\n",
      "PrintHood\n",
      "python-dh-hw\n",
      "Recent\n",
      "Saved Games\n",
      "Searches\n",
      "SendTo\n",
      "Untitled Folder\n",
      "Untitled Folder 1\n",
      "Untitled Folder 2\n",
      "Untitled.ipynb\n",
      "untitled.txt\n",
      "Untitled1.ipynb\n",
      "Untitled2.ipynb\n",
      "Videos\n",
      "YandexDisk\n",
      "главное меню\n",
      "Мои документы\n",
      "Шаблоны\n"
     ]
    }
   ],
   "source": [
    "\n",
    "# посмотрим, в какой папке мы находимся\n",
    "print(os.getcwd())\n",
    "\n",
    "# а теперь посмотрим список файлов и папок внутри нее\n",
    "\n",
    "for file in os.listdir('.'): # точка = текущая папка\n",
    "    print(file)"
   ]
  },
  {
   "cell_type": "code",
   "execution_count": 38,
   "metadata": {},
   "outputs": [
    {
     "name": "stdout",
     "output_type": "stream",
     "text": [
      "C:\\Users\\user\n",
      ".anaconda\n",
      ".bash_history\n",
      ".conda\n",
      ".condarc\n",
      ".gitconfig\n",
      ".ipynb_checkpoints\n",
      ".ipython\n",
      ".jupyter\n",
      "3D Objects\n",
      "Anaconda3\n",
      "AppData\n",
      "Application Data\n",
      "cd\n",
      "Contacts\n",
      "Cookies\n",
      "Desktop\n",
      "Documents\n",
      "Downloads\n",
      "Favorites\n",
      "gephi-0.9.2-windows (1).exe\n",
      "Google Диск\n",
      "Intel\n",
      "IntelGraphicsProfiles\n",
      "JavaSetup8u161 (1).exe\n",
      "JavaSetup8u161.exe\n",
      "Links\n",
      "Local Settings\n",
      "MicrosoftEdgeBackups\n",
      "Miniconda3\n",
      "Music\n",
      "NetHood\n",
      "NTUSER.DAT\n",
      "ntuser.dat.LOG1\n",
      "ntuser.dat.LOG2\n",
      "NTUSER.DAT{302691c6-861b-11e8-8382-d96585cd56e8}.TxR.0.regtrans-ms\n",
      "NTUSER.DAT{302691c6-861b-11e8-8382-d96585cd56e8}.TxR.1.regtrans-ms\n",
      "NTUSER.DAT{302691c6-861b-11e8-8382-d96585cd56e8}.TxR.2.regtrans-ms\n",
      "NTUSER.DAT{302691c6-861b-11e8-8382-d96585cd56e8}.TxR.blf\n",
      "NTUSER.DAT{302691c7-861b-11e8-8382-d96585cd56e8}.TM.blf\n",
      "NTUSER.DAT{302691c7-861b-11e8-8382-d96585cd56e8}.TMContainer00000000000000000001.regtrans-ms\n",
      "NTUSER.DAT{302691c7-861b-11e8-8382-d96585cd56e8}.TMContainer00000000000000000002.regtrans-ms\n",
      "ntuser.ini\n",
      "OneDrive\n",
      "Pictures\n",
      "poem.txt\n",
      "PrintHood\n",
      "python-dh-hw\n",
      "Recent\n",
      "Saved Games\n",
      "Searches\n",
      "SendTo\n",
      "Untitled Folder\n",
      "Untitled Folder 1\n",
      "Untitled Folder 2\n",
      "Untitled.ipynb\n",
      "untitled.txt\n",
      "Untitled1.ipynb\n",
      "Untitled2.ipynb\n",
      "Videos\n",
      "YandexDisk\n",
      "главное меню\n",
      "Мои документы\n",
      "Шаблоны\n",
      "7\n"
     ]
    }
   ],
   "source": []
  },
  {
   "cell_type": "code",
   "execution_count": null,
   "metadata": {},
   "outputs": [],
   "source": []
  },
  {
   "cell_type": "code",
   "execution_count": 52,
   "metadata": {},
   "outputs": [
    {
     "name": "stdout",
     "output_type": "stream",
     "text": [
      "['котики', 'сказки']\n",
      "['poem.txt', 'боль.txt', 'ворон.txt', 'деды.txt', 'кладь.txt', 'ночь.txt', 'шредингер.txt']\n",
      "7\n",
      "[]\n",
      "['кот.txt', 'лео.txt', 'пушок.txt']\n",
      "3\n",
      "[]\n",
      "['гримм.txt', 'королевич.txt', 'король.txt', 'крестная.txt', 'яга.txt']\n",
      "5\n",
      "True\n",
      "кот по цепи идёт направо \n",
      "и упирается в щиток \n",
      "а от щитка идя налево \n",
      "он ток\n",
      "['а боль у вас какого рода \\n', 'спросил дежурный врач а я \\n', 'как на духу она ответил \\n', 'моя']\n"
     ]
    },
    {
     "ename": "FileNotFoundError",
     "evalue": "[WinError 2] Не удается найти указанный файл: 'poems.txt'",
     "output_type": "error",
     "traceback": [
      "\u001b[1;31m---------------------------------------------------------------------------\u001b[0m",
      "\u001b[1;31mFileNotFoundError\u001b[0m                         Traceback (most recent call last)",
      "\u001b[1;32m<ipython-input-52-dd6856ff0581>\u001b[0m in \u001b[0;36m<module>\u001b[1;34m()\u001b[0m\n\u001b[0;32m     12\u001b[0m     \u001b[0mlist_of_lines\u001b[0m \u001b[1;33m=\u001b[0m \u001b[0mpain\u001b[0m\u001b[1;33m.\u001b[0m\u001b[0mreadlines\u001b[0m\u001b[1;33m(\u001b[0m\u001b[1;33m)\u001b[0m \u001b[1;31m#4\u001b[0m\u001b[1;33m\u001b[0m\u001b[0m\n\u001b[0;32m     13\u001b[0m     \u001b[0mprint\u001b[0m \u001b[1;33m(\u001b[0m\u001b[0mlist_of_lines\u001b[0m\u001b[1;33m)\u001b[0m \u001b[1;31m#4\u001b[0m\u001b[1;33m\u001b[0m\u001b[0m\n\u001b[1;32m---> 14\u001b[1;33m \u001b[0mos\u001b[0m\u001b[1;33m.\u001b[0m\u001b[0mremove\u001b[0m\u001b[1;33m(\u001b[0m\u001b[1;34m'poems.txt'\u001b[0m\u001b[1;33m)\u001b[0m\u001b[1;33m\u001b[0m\u001b[0m\n\u001b[0m\u001b[0;32m     15\u001b[0m \u001b[1;32mwith\u001b[0m \u001b[0mopen\u001b[0m\u001b[1;33m(\u001b[0m\u001b[1;34m'poems.txt'\u001b[0m\u001b[1;33m,\u001b[0m\u001b[1;34m'w'\u001b[0m\u001b[1;33m,\u001b[0m\u001b[0mencoding\u001b[0m\u001b[1;33m=\u001b[0m\u001b[1;34m'utf-8'\u001b[0m\u001b[1;33m)\u001b[0m \u001b[1;32mas\u001b[0m \u001b[0mf\u001b[0m\u001b[1;33m:\u001b[0m\u001b[1;33m\u001b[0m\u001b[0m\n\u001b[0;32m     16\u001b[0m     \u001b[1;32mfor\u001b[0m \u001b[0mroot\u001b[0m\u001b[1;33m,\u001b[0m \u001b[0mdirs\u001b[0m\u001b[1;33m,\u001b[0m \u001b[0mfiles\u001b[0m \u001b[1;32min\u001b[0m \u001b[0mos\u001b[0m\u001b[1;33m.\u001b[0m\u001b[0mwalk\u001b[0m\u001b[1;33m(\u001b[0m\u001b[1;34m'.'\u001b[0m\u001b[1;33m)\u001b[0m\u001b[1;33m:\u001b[0m\u001b[1;33m\u001b[0m\u001b[0m\n",
      "\u001b[1;31mFileNotFoundError\u001b[0m: [WinError 2] Не удается найти указанный файл: 'poems.txt'"
     ]
    }
   ],
   "source": [
    "import os #2\n",
    "os.chdir(r'C:\\Users\\user\\Desktop\\python-dh-hw\\python-dh-hw\\poems') #2\n",
    "for root, dirs, files in os.walk('.'): #2\n",
    "    print (dirs) #2\n",
    "    print (files) #2\n",
    "    print(len(files)) #2\n",
    "print(os.path.isfile(\".\\сказки\\гримм.txt\")) #3\n",
    "with open('.\\котики\\кот.txt', 'r', encoding='utf-8') as cat: #4\n",
    "    cat = cat.read() #4\n",
    "    print(cat) #4\n",
    "with open('.\\боль.txt', 'r', encoding='utf-8') as pain: #4\n",
    "    list_of_lines = pain.readlines() #4\n",
    "    print (list_of_lines) #4\n",
    "os.remove('poems.txt')\n",
    "with open('poems.txt','w',encoding='utf-8') as f:\n",
    "    for root, dirs, files in os.walk('.'):\n",
    "        for file in files:\n",
    "            if os.path.exists(file):\n",
    "                with open(file,'r',encoding='utf-8') as name:\n",
    "                    name=name.read()\n",
    "                    f.write(name+ '\\n')\n",
    "            elif os.path.exists('.\\котики\\%s' %file):\n",
    "                with open('.\\котики\\%s' %file,'r',encoding='utf-8') as name:\n",
    "                    name=name.read()\n",
    "                    f.write(name+ '\\n')\n",
    "            elif os.path.exists('.\\сказки\\%s' %file):\n",
    "                with open('.\\сказки\\%s' %file,'r',encoding='utf-8') as name:\n",
    "                    name=name.read()\n",
    "                    f.write(name+ '\\n')\n",
    "with open ('poems.txt','r',encoding='utf-8') as q:\n",
    "    print (q.read())\n"
   ]
  },
  {
   "cell_type": "code",
   "execution_count": null,
   "metadata": {},
   "outputs": [],
   "source": []
  },
  {
   "cell_type": "code",
   "execution_count": 55,
   "metadata": {},
   "outputs": [
    {
     "name": "stdout",
     "output_type": "stream",
     "text": [
      "C:\\Users\\user\\Desktop\\python-dh-hw\\python-dh-hw\\poems\n",
      "poem.txt\n",
      "боль.txt\n",
      "ворон.txt\n",
      "деды.txt\n",
      "кладь.txt\n",
      "котики\n",
      "ночь.txt\n",
      "сказки\n",
      "шредингер.txt\n",
      "13\n"
     ]
    }
   ],
   "source": [
    "#Задачка N2\n",
    "import os #импортируем модуль\n",
    "print(os.getcwd()) #печатаем рабочую директорию\n",
    "for file in os.listdir('.'): \n",
    "    print(file) #печатаем название всех файлов в рабочей директории\n",
    "print(len(file)) #считаем кол-во файлов в директории"
   ]
  },
  {
   "cell_type": "code",
   "execution_count": null,
   "metadata": {},
   "outputs": [],
   "source": []
  },
  {
   "cell_type": "code",
   "execution_count": 57,
   "metadata": {},
   "outputs": [
    {
     "name": "stdout",
     "output_type": "stream",
     "text": [
      "['котики', 'сказки']\n",
      "['poem.txt', 'боль.txt', 'ворон.txt', 'деды.txt', 'кладь.txt', 'ночь.txt', 'шредингер.txt']\n",
      "7\n",
      "[]\n",
      "['кот.txt', 'лео.txt', 'пушок.txt']\n",
      "3\n",
      "[]\n",
      "['гримм.txt', 'королевич.txt', 'король.txt', 'крестная.txt', 'яга.txt']\n",
      "5\n"
     ]
    }
   ],
   "source": [
    "import os #2\n",
    "os.chdir(r'C:\\Users\\user\\Desktop\\python-dh-hw\\python-dh-hw\\poems') #2\n",
    "for root, dirs, files in os.walk('.'): #2\n",
    "    print (dirs) #2\n",
    "    print (files) #2\n",
    "    print(len(files)) #2"
   ]
  },
  {
   "cell_type": "code",
   "execution_count": null,
   "metadata": {},
   "outputs": [],
   "source": []
  },
  {
   "cell_type": "code",
   "execution_count": 58,
   "metadata": {
    "scrolled": true
   },
   "outputs": [
    {
     "name": "stdout",
     "output_type": "stream",
     "text": [
      "[['варкалось', 'хливкие'], ['хливкие', 'шорьки'], ['шорьки', 'пырялись'], ['пырялись', 'по'], ['по', 'наве'], ['наве', 'и'], ['и', 'хрюкотали'], ['хрюкотали', 'зелюки'], ['зелюки', 'как'], ['как', 'мюмзики'], ['мюмзики', 'в'], ['в', 'мове'], ['мове', 'о'], ['о', 'бойся'], ['бойся', 'бармаглота'], ['бармаглота', 'сын'], ['сын', 'он'], ['он', 'так'], ['так', 'свирлеп'], ['свирлеп', 'и'], ['и', 'дик'], ['дик', 'а'], ['а', 'в'], ['в', 'глyще'], ['глyще', 'рымит'], ['рымит', 'исполин'], ['исполин', 'злопастный'], ['злопастный', 'брандашмыг']]\n"
     ]
    }
   ],
   "source": [
    "#Задачка N1\n",
    "text = \"\"\"варкалось хливкие шорьки пырялись по наве и хрюкотали\n",
    "зелюки как мюмзики в мове о бойся бармаглота сын он так свирлеп\n",
    "и дик а в глyще рымит исполин злопастный брандашмыг\"\"\"\n",
    "monograms = text.split()\n",
    "bigrams = []\n",
    "for i in range(len(monograms)-1):\n",
    "    bigrams.append([monograms[i],monograms[i+1]])\n",
    "print(bigrams)"
   ]
  },
  {
   "cell_type": "code",
   "execution_count": null,
   "metadata": {},
   "outputs": [],
   "source": []
  },
  {
   "cell_type": "code",
   "execution_count": 61,
   "metadata": {},
   "outputs": [
    {
     "ename": "SyntaxError",
     "evalue": "invalid syntax (<ipython-input-61-da97ee2050b1>, line 1)",
     "output_type": "error",
     "traceback": [
      "\u001b[1;36m  File \u001b[1;32m\"<ipython-input-61-da97ee2050b1>\"\u001b[1;36m, line \u001b[1;32m1\u001b[0m\n\u001b[1;33m    with open ('poems.txt', 'r')) as q:\u001b[0m\n\u001b[1;37m                                ^\u001b[0m\n\u001b[1;31mSyntaxError\u001b[0m\u001b[1;31m:\u001b[0m invalid syntax\n"
     ]
    }
   ],
   "source": [
    "with open ('poems.txt', 'r')) as q:\n",
    "    print (q.read())"
   ]
  },
  {
   "cell_type": "code",
   "execution_count": 70,
   "metadata": {
    "scrolled": true
   },
   "outputs": [
    {
     "name": "stdout",
     "output_type": "stream",
     "text": [
      "['котики', 'сказки']\n",
      "['poem.txt', 'боль.txt', 'ворон.txt', 'деды.txt', 'кладь.txt', 'ночь.txt', 'шредингер.txt']\n",
      "7\n",
      "[]\n",
      "['кот.txt', 'лео.txt', 'пушок.txt']\n",
      "3\n",
      "[]\n",
      "['гримм.txt', 'королевич.txt', 'король.txt', 'крестная.txt', 'яга.txt']\n",
      "5\n"
     ]
    },
    {
     "ename": "FileNotFoundError",
     "evalue": "[Errno 2] No such file or directory: 'poems.txt'",
     "output_type": "error",
     "traceback": [
      "\u001b[1;31m---------------------------------------------------------------------------\u001b[0m",
      "\u001b[1;31mFileNotFoundError\u001b[0m                         Traceback (most recent call last)",
      "\u001b[1;32m<ipython-input-70-79bc833d9542>\u001b[0m in \u001b[0;36m<module>\u001b[1;34m()\u001b[0m\n\u001b[0;32m      5\u001b[0m     \u001b[0mprint\u001b[0m \u001b[1;33m(\u001b[0m\u001b[0mfiles\u001b[0m\u001b[1;33m)\u001b[0m \u001b[1;31m#2\u001b[0m\u001b[1;33m\u001b[0m\u001b[0m\n\u001b[0;32m      6\u001b[0m     \u001b[0mprint\u001b[0m\u001b[1;33m(\u001b[0m\u001b[0mlen\u001b[0m\u001b[1;33m(\u001b[0m\u001b[0mfiles\u001b[0m\u001b[1;33m)\u001b[0m\u001b[1;33m)\u001b[0m \u001b[1;31m#2\u001b[0m\u001b[1;33m\u001b[0m\u001b[0m\n\u001b[1;32m----> 7\u001b[1;33m \u001b[1;32mwith\u001b[0m \u001b[0mopen\u001b[0m\u001b[1;33m(\u001b[0m\u001b[1;34m'poems.txt'\u001b[0m\u001b[1;33m)\u001b[0m \u001b[1;32mas\u001b[0m \u001b[0mf\u001b[0m\u001b[1;33m:\u001b[0m\u001b[1;33m\u001b[0m\u001b[0m\n\u001b[0m\u001b[0;32m      8\u001b[0m     \u001b[1;32mfor\u001b[0m \u001b[0mroot\u001b[0m\u001b[1;33m,\u001b[0m \u001b[0mdirs\u001b[0m\u001b[1;33m,\u001b[0m \u001b[0mfiles\u001b[0m \u001b[1;32min\u001b[0m \u001b[0mos\u001b[0m\u001b[1;33m.\u001b[0m\u001b[0mwalk\u001b[0m\u001b[1;33m(\u001b[0m\u001b[1;34m'.'\u001b[0m\u001b[1;33m)\u001b[0m\u001b[1;33m:\u001b[0m\u001b[1;33m\u001b[0m\u001b[0m\n\u001b[0;32m      9\u001b[0m         \u001b[1;32mfor\u001b[0m \u001b[0mfile\u001b[0m \u001b[1;32min\u001b[0m \u001b[0mfiles\u001b[0m\u001b[1;33m:\u001b[0m\u001b[1;33m\u001b[0m\u001b[0m\n",
      "\u001b[1;31mFileNotFoundError\u001b[0m: [Errno 2] No such file or directory: 'poems.txt'"
     ]
    }
   ],
   "source": [
    "import os #2\n",
    "os.chdir(r'C:\\Users\\user\\Desktop\\python-dh-hw\\python-dh-hw\\poems') #2\n",
    "for root, dirs, files in os.walk('.'): #2\n",
    "    print (dirs) #2\n",
    "    print (files) #2\n",
    "    print(len(files)) #2\n",
    "with open('poems.txt') as f:\n",
    "    for root, dirs, files in os.walk('.'):\n",
    "        for file in files:\n",
    "            if os.path.exists(file):\n",
    "                with open(file,'r') as name:\n",
    "                    name=name.read()\n",
    "                    f.write(name+ '\\n')\n",
    "            elif os.path.exists('.\\котики\\%s' %file):\n",
    "                with open('.\\котики\\%s' %file,'r') as name:\n",
    "                    name=name.read()\n",
    "                    f.write(name+ '\\n')\n",
    "            elif os.path.exists('.\\сказки\\%s' %file):\n",
    "                with open('.\\сказки\\%s' %file,'r') as name:\n",
    "                    name=name.read()\n",
    "                    f.write(name+ '\\n')\n",
    "with open ('poems.txt','r') as q:\n",
    "    print (q.read())"
   ]
  },
  {
   "cell_type": "code",
   "execution_count": 67,
   "metadata": {},
   "outputs": [
    {
     "ename": "IndentationError",
     "evalue": "unexpected indent (<ipython-input-67-135957468df1>, line 3)",
     "output_type": "error",
     "traceback": [
      "\u001b[1;36m  File \u001b[1;32m\"<ipython-input-67-135957468df1>\"\u001b[1;36m, line \u001b[1;32m3\u001b[0m\n\u001b[1;33m    for root, dirs, files in os.walk('.'):\u001b[0m\n\u001b[1;37m    ^\u001b[0m\n\u001b[1;31mIndentationError\u001b[0m\u001b[1;31m:\u001b[0m unexpected indent\n"
     ]
    }
   ],
   "source": [
    "os.remove('poems.txt')\n",
    "f = open('poems.txt', 'r')\n",
    "    for root, dirs, files in os.walk('.'):\n",
    "        for file in files:\n",
    "            if os.path.exists(file):\n",
    "                with open(file,'r',encoding='utf-8') as name:\n",
    "                    name=name.read()\n",
    "                    f.write(name+ '\\n')\n",
    "            elif os.path.exists('.\\котики\\%s' %file):\n",
    "                with open('.\\котики\\%s' %file,'r',encoding='utf-8') as name:\n",
    "                    name=name.read()\n",
    "                    f.write(name+ '\\n')\n",
    "            elif os.path.exists('.\\сказки\\%s' %file):\n",
    "                with open('.\\сказки\\%s' %file,'r',encoding='utf-8') as name:\n",
    "                    name=name.read()\n",
    "                    f.write(name+ '\\n')\n",
    "with open ('poems.txt','r') as q:\n",
    "    print (q.read())"
   ]
  },
  {
   "cell_type": "code",
   "execution_count": null,
   "metadata": {},
   "outputs": [],
   "source": []
  }
 ],
 "metadata": {
  "kernelspec": {
   "display_name": "Python 3",
   "language": "python",
   "name": "python3"
  },
  "language_info": {
   "codemirror_mode": {
    "name": "ipython",
    "version": 3
   },
   "file_extension": ".py",
   "mimetype": "text/x-python",
   "name": "python",
   "nbconvert_exporter": "python",
   "pygments_lexer": "ipython3",
   "version": "3.7.0"
  }
 },
 "nbformat": 4,
 "nbformat_minor": 2
}

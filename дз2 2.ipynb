{
 "cells": [
  {
   "cell_type": "code",
   "execution_count": 1,
   "metadata": {
    "scrolled": false
   },
   "outputs": [
    {
     "name": "stdout",
     "output_type": "stream",
     "text": [
      "['варкалось', 'хливкие', 'шорьки', 'пырялись', 'по', 'наве', 'и', 'хрюкотали', 'зелюки', 'как', 'мюмзики', 'в', 'мове', 'о', 'бойся', 'бармаглота', 'сын', 'он', 'так', 'свирлеп', 'и', 'дик', 'а', 'в', 'глyще', 'рымит', 'исполин', 'злопастный', 'брандашмыг']\n"
     ]
    }
   ],
   "source": [
    "#Задачка N1\n",
    "line = 'варкалось хливкие шорьки пырялись по наве и хрюкотали зелюки как мюмзики в мове о бойся бармаглота сын он так свирлеп и дик а в глyще рымит исполин злопастный брандашмыг'\n",
    "sent = line.split() #разбиваем строчку на слова\n",
    "print (line.split())"
   ]
  },
  {
   "cell_type": "code",
   "execution_count": 5,
   "metadata": {},
   "outputs": [
    {
     "name": "stdout",
     "output_type": "stream",
     "text": [
      "C:\\Users\\user\n",
      ".anaconda\n",
      ".bash_history\n",
      ".conda\n",
      ".condarc\n",
      ".gitconfig\n",
      ".ipynb_checkpoints\n",
      ".ipython\n",
      ".jupyter\n",
      "3D Objects\n",
      "Anaconda3\n",
      "AppData\n",
      "Application Data\n",
      "cd\n",
      "Contacts\n",
      "Cookies\n",
      "Desktop\n",
      "Documents\n",
      "Downloads\n",
      "Favorites\n",
      "gephi-0.9.2-windows (1).exe\n",
      "Google Диск\n",
      "Intel\n",
      "IntelGraphicsProfiles\n",
      "JavaSetup8u161 (1).exe\n",
      "JavaSetup8u161.exe\n",
      "Links\n",
      "Local Settings\n",
      "MicrosoftEdgeBackups\n",
      "Miniconda3\n",
      "Music\n",
      "NetHood\n",
      "NTUSER.DAT\n",
      "ntuser.dat.LOG1\n",
      "ntuser.dat.LOG2\n",
      "NTUSER.DAT{302691c6-861b-11e8-8382-d96585cd56e8}.TxR.0.regtrans-ms\n",
      "NTUSER.DAT{302691c6-861b-11e8-8382-d96585cd56e8}.TxR.1.regtrans-ms\n",
      "NTUSER.DAT{302691c6-861b-11e8-8382-d96585cd56e8}.TxR.2.regtrans-ms\n",
      "NTUSER.DAT{302691c6-861b-11e8-8382-d96585cd56e8}.TxR.blf\n",
      "NTUSER.DAT{302691c7-861b-11e8-8382-d96585cd56e8}.TM.blf\n",
      "NTUSER.DAT{302691c7-861b-11e8-8382-d96585cd56e8}.TMContainer00000000000000000001.regtrans-ms\n",
      "NTUSER.DAT{302691c7-861b-11e8-8382-d96585cd56e8}.TMContainer00000000000000000002.regtrans-ms\n",
      "ntuser.ini\n",
      "OneDrive\n",
      "Pictures\n",
      "PrintHood\n",
      "python-dh-hw\n",
      "Recent\n",
      "Saved Games\n",
      "Searches\n",
      "SendTo\n",
      "Untitled Folder\n",
      "Untitled Folder 1\n",
      "Untitled Folder 2\n",
      "Untitled.ipynb\n",
      "untitled.txt\n",
      "Untitled1.ipynb\n",
      "Videos\n",
      "YandexDisk\n",
      "главное меню\n",
      "Мои документы\n",
      "Шаблоны\n",
      "7\n"
     ]
    }
   ],
   "source": [
    "#Задачка N2\n",
    "#Второе задание\n",
    "import os #импортируем модуль\n",
    "print(os.getcwd()) #печатаем рабочую директорию\n",
    "for file in os.listdir('.'): \n",
    "    print(file) #печатаем название всех файлов в рабочей директории\n",
    "print(len(file)) #считаем количество файлов в директории"
   ]
  },
  {
   "cell_type": "code",
   "execution_count": 6,
   "metadata": {},
   "outputs": [],
   "source": [
    "#Задачка N2\n",
    "#Второе задание\n",
    "import os #импортируем модуль"
   ]
  },
  {
   "cell_type": "code",
   "execution_count": 14,
   "metadata": {
    "scrolled": true
   },
   "outputs": [
    {
     "name": "stdout",
     "output_type": "stream",
     "text": [
      "270\n",
      "['Несчастная', 'кошка', 'порезала', 'и', 'ни', 'шагу', 'не', 'может', 'чтобы', 'вылечить', 'кошкину', 'лапу', 'Воздушные', 'шарики', 'надо', 'И', 'сразу', 'столпился', 'народ', 'на', 'и', 'и', 'на', 'кошку', 'А', 'кошка', 'отчасти', 'идет', 'по', 'Отчасти', 'по', 'воздуху', 'плавно']\n"
     ]
    }
   ],
   "source": [
    "#Задачка N3\n",
    "poem = \"\"\"Несчастная кошка порезала лапу- \n",
    "Сидит, и ни шагу не может ступить.\n",
    "Скорей, чтобы вылечить кошкину лапу\n",
    "Воздушные шарики надо купить!\n",
    "\n",
    "И сразу столпился народ на дороге-\n",
    "Шумит, и кричит, и на кошку глядит.\n",
    "А кошка отчасти идет по дороге,\n",
    "Отчасти по воздуху плавно летит!\"\"\"\n",
    "print(len(poem)) #считаем кол-во символов в переменной\n",
    "\n",
    "words = [w for w in poem.split() if w.isalpha()] #избавляем текст от пунктуации с помощью list of comprehensions\n",
    "        \n",
    "print(words) #печатаем слова текста без знаков пунктуации"
   ]
  },
  {
   "cell_type": "code",
   "execution_count": 46,
   "metadata": {},
   "outputs": [
    {
     "name": "stdout",
     "output_type": "stream",
     "text": [
      "['Н', 'г', 'м', 'ж', 'б', 'ь', 'В', 'И', 'А', 'О', 'х']\n"
     ]
    }
   ],
   "source": [
    "hapaxes = []\n",
    "for word in poem:\n",
    "    if poem.count(word) == 1:\n",
    "        hapaxes.append(word)\n",
    "print (hapaxes)"
   ]
  },
  {
   "cell_type": "code",
   "execution_count": 41,
   "metadata": {},
   "outputs": [
    {
     "name": "stdout",
     "output_type": "stream",
     "text": [
      "Несчастная кошка порезала и ни шагу не может чтобы вылечить кошкину лапу Воздушные шарики надо И сразу столпился народ на и и на кошку А кошка отчасти идет по Отчасти по воздуху плавно\n",
      "['Н', 'В', 'И', 'А', 'О']\n"
     ]
    }
   ],
   "source": [
    "poem = ' '.join(words) #объединяюь все слова в списке в строку через пробел\n",
    "print(poem)\n",
    "\n",
    "slova = []\n",
    "for word in poem:\n",
    "    if word.isupper():\n",
    "        word.lower()\n",
    "        slova.append(word)\n",
    "        \n",
    "print(slova) "
   ]
  },
  {
   "cell_type": "code",
   "execution_count": 42,
   "metadata": {},
   "outputs": [
    {
     "name": "stdout",
     "output_type": "stream",
     "text": [
      "33\n"
     ]
    }
   ],
   "source": [
    "words = poem.split() #считаем кол-во слов в тексте \n",
    "print(len(words))"
   ]
  },
  {
   "cell_type": "code",
   "execution_count": 43,
   "metadata": {},
   "outputs": [
    {
     "name": "stdout",
     "output_type": "stream",
     "text": [
      "['Н', 'г', 'м', 'ж', 'б', 'ь', 'В', 'И', 'А', 'О', 'х']\n"
     ]
    }
   ],
   "source": [
    "hapaxes = []\n",
    "for word in poem:\n",
    "    if poem.count(word) == 1:\n",
    "        hapaxes.append(word)\n",
    "print (hapaxes)"
   ]
  },
  {
   "cell_type": "code",
   "execution_count": 44,
   "metadata": {},
   "outputs": [
    {
     "name": "stdout",
     "output_type": "stream",
     "text": [
      "['Несчастная', 'кошка', 'порезала', 'и', 'ни', 'шагу', 'не', 'может', 'чтобы', 'вылечить', 'кошкину', 'лапу', 'Воздушные', 'шарики', 'надо', 'И', 'сразу', 'столпился', 'народ', 'на', 'и', 'и', 'на', 'кошку', 'А', 'кошка', 'отчасти', 'идет', 'по', 'Отчасти', 'по', 'воздуху', 'плавно']\n",
      "33\n"
     ]
    }
   ],
   "source": [
    "from string import punctuation\n",
    "\n",
    "d = poem.split()\n",
    "d = [word.strip(punctuation) for word in d]\n",
    "for word in d:\n",
    "    if word == '':\n",
    "        d.remove(word)\n",
    "print(d)\n",
    "\n",
    "print (len(d))"
   ]
  },
  {
   "cell_type": "code",
   "execution_count": 45,
   "metadata": {},
   "outputs": [
    {
     "name": "stdout",
     "output_type": "stream",
     "text": [
      "0\n"
     ]
    }
   ],
   "source": [
    "print (poem.count('\\n'))"
   ]
  },
  {
   "cell_type": "code",
   "execution_count": null,
   "metadata": {},
   "outputs": [],
   "source": []
  }
 ],
 "metadata": {
  "kernelspec": {
   "display_name": "Python 3",
   "language": "python",
   "name": "python3"
  },
  "language_info": {
   "codemirror_mode": {
    "name": "ipython",
    "version": 3
   },
   "file_extension": ".py",
   "mimetype": "text/x-python",
   "name": "python",
   "nbconvert_exporter": "python",
   "pygments_lexer": "ipython3",
   "version": "3.7.0"
  }
 },
 "nbformat": 4,
 "nbformat_minor": 2
}

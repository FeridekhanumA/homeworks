{
 "cells": [
  {
   "cell_type": "markdown",
   "metadata": {},
   "source": [
    "# Welcome to Jupyter!"
   ]
  },
  {
   "cell_type": "code",
   "execution_count": 23,
   "metadata": {},
   "outputs": [
    {
     "name": "stdout",
     "output_type": "stream",
     "text": [
      "Число пингвинов: 6\n",
      "    _~_        _~_        _~_        _~_        _~_        _~_    \n",
      "   (o o)      (o o)      (o o)      (o o)      (o o)      (o o)   \n",
      "  /  V  \\    /  V  \\    /  V  \\    /  V  \\    /  V  \\    /  V  \\  \n",
      " /(  _  )\\  /(  _  )\\  /(  _  )\\  /(  _  )\\  /(  _  )\\  /(  _  )\\ \n",
      "   ^^ ^^      ^^ ^^      ^^ ^^      ^^ ^^      ^^ ^^      ^^ ^^   \n"
     ]
    }
   ],
   "source": [
    "#Задачка N1\n",
    "w = [\"    _~_    \",\n",
    "     \"   (o o)   \",\n",
    "     \"  /  V  \\  \",\n",
    "     \" /(  _  )\\ \",\n",
    "     \"   ^^ ^^   \"]\n",
    "n = int(input(\"Число пингвинов: \"))\n",
    "\n",
    "if (1 < n <9) :\n",
    "    for i in w: print(i*n) \n",
    "else:\n",
    "     print(\"Неправильное число\")"
   ]
  },
  {
   "cell_type": "markdown",
   "metadata": {},
   "source": [
    "This repo contains an introduction to [Jupyter](https://jupyter.org) and [IPython](https://ipython.org).\n",
    "\n",
    "Outline of some basics:\n",
    "\n",
    "* [Notebook Basics](../examples/Notebook/Notebook%20Basics.ipynb)\n",
    "* [IPython - beyond plain python](../examples/IPython%20Kernel/Beyond%20Plain%20Python.ipynb)\n",
    "* [Markdown Cells](../examples/Notebook/Working%20With%20Markdown%20Cells.ipynb)\n",
    "* [Rich Display System](../examples/IPython%20Kernel/Rich%20Output.ipynb)\n",
    "* [Custom Display logic](../examples/IPython%20Kernel/Custom%20Display%20Logic.ipynb)\n",
    "* [Running a Secure Public Notebook Server](../examples/Notebook/Running%20the%20Notebook%20Server.ipynb#Securing-the-notebook-server)\n",
    "* [How Jupyter works](../examples/Notebook/Multiple%20Languages%2C%20Frontends.ipynb) to run code in different languages."
   ]
  },
  {
   "cell_type": "code",
   "execution_count": 18,
   "metadata": {},
   "outputs": [
    {
     "name": "stdout",
     "output_type": "stream",
     "text": [
      "историографический обзор источников\n",
      "Выражений: 3\n",
      "Символов: 35\n"
     ]
    }
   ],
   "source": [
    "#Задачка N2\n",
    "w = input()\n",
    "phrase = w.split()\n",
    "phrase = len(phrase)\n",
    "symbols = tuple(w)\n",
    "symbols = len(symbols)\n",
    "print(\"Выражений:\" , phrase)\n",
    "print(\"Символов:\" , symbols)\n"
   ]
  },
  {
   "cell_type": "code",
   "execution_count": 20,
   "metadata": {},
   "outputs": [
    {
     "name": "stdout",
     "output_type": "stream",
     "text": [
      "источниковедческий анализ источников\n",
      "Третий символ: т\n",
      "Предпоследний символ: о\n",
      "Первые пять символов: ('и', 'с', 'т', 'о', 'ч')\n",
      "Вся строка,кроме последних двух символов: ('и', 'с', 'т', 'о', 'ч', 'н', 'и', 'к', 'о', 'в', 'е', 'д', 'ч', 'е', 'с', 'к', 'и', 'й', ' ', 'а', 'н', 'а', 'л', 'и', 'з', ' ', 'и', 'с', 'т', 'о', 'ч', 'н', 'и', 'к')\n",
      "Все символы с четными индексами ('и', 'т', 'ч', 'и', 'о', 'е', 'ч', 'с', 'и', ' ', 'н', 'л', 'з', 'и', 'т', 'ч', 'и', 'о')\n",
      "Все символы с нечетными индексами ('с', 'о', 'н', 'к', 'в', 'д', 'е', 'к', 'й', 'а', 'а', 'и', ' ', 'с', 'о', 'н', 'к', 'в')\n",
      "Все символы в обратом порядке ('в', 'о', 'к', 'и', 'н', 'ч', 'о', 'т', 'с', 'и', ' ', 'з', 'и', 'л', 'а', 'н', 'а', ' ', 'й', 'и', 'к', 'с', 'е', 'ч', 'д', 'е', 'в', 'о', 'к', 'и', 'н', 'ч', 'о', 'т', 'с', 'и')\n",
      "Все символы строки через один в обратном порядке ('в', 'к', 'н', 'о', 'с', ' ', 'и', 'а', 'а', 'й', 'к', 'е', 'д', 'в', 'к', 'н', 'о', 'с')\n",
      "Длина строки 36\n"
     ]
    }
   ],
   "source": [
    "#Задачка N3\n",
    "w = input()\n",
    "cletters = tuple(w)\n",
    "print(\"Третий символ:\" , cletters[2])\n",
    "print(\"Предпоследний символ:\" , cletters[-2])\n",
    "print(\"Первые пять символов:\" , cletters[:5])\n",
    "print(\"Вся строка,кроме последних двух символов:\" , cletters[:-2])\n",
    "print(\"Все символы с четными индексами\" , cletters[: : 2])\n",
    "print(\"Все символы с нечетными индексами\" , cletters[1: : 2])\n",
    "print(\"Все символы в обратом порядке\" , cletters[: : -1])\n",
    "print(\"Все символы строки через один в обратном порядке\" , cletters[: : -2])\n",
    "print(\"Длина строки:\" , len(w))"
   ]
  },
  {
   "cell_type": "markdown",
   "metadata": {},
   "source": [
    "You can also get this tutorial and run it on your laptop:\n",
    "\n",
    "    git clone https://github.com/ipython/ipython-in-depth\n",
    "\n",
    "Install IPython and Jupyter:\n",
    "\n",
    "with [conda](https://www.anaconda.com/download):\n",
    "\n",
    "    conda install ipython jupyter\n",
    "\n",
    "with pip:\n",
    "\n",
    "    # first, always upgrade pip!\n",
    "    pip install --upgrade pip\n",
    "    pip install --upgrade ipython jupyter\n",
    "\n",
    "Start the notebook in the tutorial directory:\n",
    "\n",
    "    cd ipython-in-depth\n",
    "    jupyter notebook"
   ]
  },
  {
   "cell_type": "code",
   "execution_count": 7,
   "metadata": {},
   "outputs": [
    {
     "name": "stdout",
     "output_type": "stream",
     "text": [
      "алла\n",
      "ДА\n"
     ]
    }
   ],
   "source": [
    "#Задачка N4\n",
    "phrase = str(input())\n",
    "a = phrase [::-1]\n",
    "if phrase == a:\n",
    "    print(\"YES\")\n",
    "else:\n",
    "    print(\"NO\")"
   ]
  },
  {
   "cell_type": "code",
   "execution_count": 22,
   "metadata": {},
   "outputs": [
    {
     "name": "stdout",
     "output_type": "stream",
     "text": [
      "Cлово:сера\n",
      "Данное слово добавлено\n",
      "Слово сера встречается в тексте 1 раз/а\n"
     ]
    }
   ],
   "source": [
    "#Задачка N5\n",
    "phrase = \"\"\"законы физики рядом с черной дырой уже не работают в том представлении в котором мы привыкли \n",
    "пространство время искривляется и все события протекают уже совсем по другому \n",
    "словно пылесос черная дыра поглощает все что находится около нее планеты астероиды свет и прочее \n",
    "ранее считалось что черная дыра ничего не излучает но как доказал стивен хокинг черная дыра излучает антивещество \n",
    "то есть поедает вещество и выделяет антивещество \n",
    "ранее думали что если кинуть в черную дыру человека то ему труба порвет на субатомы \n",
    "но как оказалось по некоторым уравнениям есть определенные траектории путешествия сквозь черную дыру чтоб чувствовать себя нормально \n",
    "правда не ясно что будет за ней другой мир или ничего \n",
    "область вокруг черной дыры которая интересна называется горизонтом событий \n",
    "если туда полететь не зная волшебное уравнение то будет конечно не очень \n",
    "наблюдатель будет видеть как космический корабль влетает в горизонт событий и крайне медленно потом отдаляется пока не застынет в центре\n",
    "у самого же космонавта дела будут идти совсем по другому \n",
    "искривленное пространство будет лепить из него как из пластилина различные формы пока наконец не разорвет все на субатомы \n",
    "но для внешнего наблюдателя космонавт навсегда останется улыбающимся и махающим в иллюминатор застывшим изображением\"\"\"\n",
    "v = phrase.split()\n",
    "w = str(input(\"Cлово:\"))\n",
    "if w not in v :\n",
    "    v.append(w)\n",
    "    print(\"Данное слово добавлено\")\n",
    "else: \n",
    "    v.count(w)\n",
    "print(\"Слово\", w, \"встречается в тексте\", v.count(w), \"раз/а\")\n",
    "\n",
    "\n"
   ]
  },
  {
   "cell_type": "code",
   "execution_count": null,
   "metadata": {},
   "outputs": [],
   "source": []
  }
 ],
 "metadata": {
  "kernelspec": {
   "display_name": "Python 3",
   "language": "python",
   "name": "python3"
  },
  "language_info": {
   "codemirror_mode": {
    "name": "ipython",
    "version": 3
   },
   "file_extension": ".py",
   "mimetype": "text/x-python",
   "name": "python",
   "nbconvert_exporter": "python",
   "pygments_lexer": "ipython3",
   "version": "3.6.6"
  }
 },
 "nbformat": 4,
 "nbformat_minor": 2
}
